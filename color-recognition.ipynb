{
 "cells": [
  {
   "cell_type": "code",
   "execution_count": null,
   "metadata": {},
   "outputs": [],
   "source": [
    "import cv2"
   ]
  },
  {
   "cell_type": "code",
   "execution_count": 20,
   "metadata": {},
   "outputs": [
    {
     "name": "stdout",
     "output_type": "stream",
     "text": [
      "(480, 640, 3)\n"
     ]
    }
   ],
   "source": [
    "while True:\n",
    "    cap = cv2.VideoCapture(0)\n",
    "\n",
    "    ret, frame = cap.read()\n",
    "    hsv_pixle = cv2.cvtColor(frame,cv2.COLOR_BGR2HSV)\n",
    "\n",
    "    height, width, channels = frame.shape\n",
    "\n",
    "    cx = int(width/2)\n",
    "    cy = int(height/2)\n",
    "\n",
    "    pixle_center_bgr = frame[cy,cx]\n",
    "    pixle_center = hsv_pixle[cy,cx]\n",
    "    hue_value = pixle_center[0]\n",
    "\n",
    "\n",
    "    color = \"Undefined\"\n",
    "    if hue_value < 5:\n",
    "        color = \"RED\"\n",
    "    elif hue_value < 22:\n",
    "        color = \"ORANGE\"\n",
    "    elif hue_value < 33:\n",
    "        color = \"YELLOW\"\n",
    "    elif hue_value < 78:\n",
    "        color = \"GREEN\"\n",
    "    elif hue_value < 131:\n",
    "        color = \"BLUE\"\n",
    "    elif hue_value < 170:\n",
    "        color = \"VIOLET\"\n",
    "    else:\n",
    "        color = \"RED\"\n",
    "\n",
    "\n",
    "    b ,g ,r = int(pixle_center_bgr[0]),int(pixle_center_bgr[1]),int(pixle_center_bgr[2])\n",
    "    \n",
    "    cv2.putText(frame, color, (10,50), 0, 1, (b,g,r), 2)\n",
    "    cv2.circle(frame,(cx,cy), 5, (25,25,25), 2)\n",
    "\n",
    "\n",
    "\n",
    "    cv2.imshow(\"Color Recognition\", frame)\n",
    "\n",
    "\n",
    "    key = cv2.waitKey(1)\n",
    "    if key == ord('q'):\n",
    "        break\n",
    "\n",
    "cap.release()\n",
    "cv2.destroyAllWindows()\n",
    "print(frame.shape)"
   ]
  },
  {
   "cell_type": "code",
   "execution_count": null,
   "metadata": {},
   "outputs": [],
   "source": []
  }
 ],
 "metadata": {
  "kernelspec": {
   "display_name": "Python 3",
   "language": "python",
   "name": "python3"
  },
  "language_info": {
   "codemirror_mode": {
    "name": "ipython",
    "version": 3
   },
   "file_extension": ".py",
   "mimetype": "text/x-python",
   "name": "python",
   "nbconvert_exporter": "python",
   "pygments_lexer": "ipython3",
   "version": "3.8.1"
  }
 },
 "nbformat": 4,
 "nbformat_minor": 2
}
